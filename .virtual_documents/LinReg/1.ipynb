import numpy as np


A = np.array([[1,2,3],
              [0,5,6],
              [0,0,5]])
A





from numpy import linalg as LA
x = LA.det(A)
x


A = np.eye(3,3)
A





x = np.array([2, 4, 7])
y = np.array([4, 9, 20])


xl = np.vstack((x,np.ones(x.shape))).T
xl


m,c = LA.lstsq(xl,y,rcond=None)[0]


m


c


from matplotlib import pyplot as plt
plt.plot(x,m*x+c,'r')
plt.plot(x,y,'x')
plt.show()


plt.plot([1,2,3],[1,7,2],',')
plt.show()
